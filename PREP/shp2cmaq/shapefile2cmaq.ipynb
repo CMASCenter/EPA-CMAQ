{
 "cells": [
  {
   "cell_type": "markdown",
   "metadata": {
    "id": "0RQ1nVpN1-sL"
   },
   "source": [
    "# Create CMAQ-Ready File from Shapefile\n",
    "\n",
    "This Notebook uses geopandas and cmaqsatproc to create IOAPI-like files for CMAQ. Geopandas supports STRtree optimized searches (via pygeos) and projection conversions. This simplifies the process to basic steps:\n",
    "\n",
    "1. Process shapefile\n",
    "    * Read in native projection.\n",
    "    * Filter for in CMAQ domain.\n",
    "    * Optionally, custom extra processing.\n",
    "2. Calculate area overlap.\n",
    "    * Perform grid cell intersections with shapefile polygons.\n",
    "    * Optionally, define a weighted value (e.g, fraction of population).\n",
    "    * Aggregate results to grid cell level.\n",
    "    * Find largest area contributor.\n",
    "    * Calculate total cell overlap.\n",
    "3. Output\n",
    "    * Store results as variables.\n",
    "    * Save as IOAPI-like file\n",
    "\n"
   ]
  },
  {
   "cell_type": "code",
   "execution_count": null,
   "metadata": {
    "id": "CWZSGMYnYHiD"
   },
   "outputs": [],
   "source": [
    "# Install Libraries, only needs to be run first time on each machine\n",
    "#!python -m pip install -qq cmaqsatproc geopandas xarray netcdf4 pycno"
   ]
  },
  {
   "cell_type": "code",
   "execution_count": null,
   "metadata": {
    "id": "DoAc3RR5B-vf"
   },
   "outputs": [],
   "source": [
    "# Download an example shapefile if you don't already have one.\n",
    "#!wget https://www2.census.gov/geo/tiger/GENZ2022/shp/cb_2022_us_state_500k.zip # use with STUSPS\n",
    "#!wget http://naturalearth.s3.amazonaws.com/110m_cultural/ne_110m_admin_0_countries.zip # use with ADM0_A3\n",
    "#!wget https://www.naturalearthdata.com/http//www.naturalearthdata.com/download/10m/cultural/ne_10m_admin_1_states_provinces.zip # us with iso_3166_2"
   ]
  },
  {
   "cell_type": "code",
   "execution_count": null,
   "metadata": {},
   "outputs": [],
   "source": [
    "import shp2cmaq\n",
    "import warnings\n",
    "# ignore warnings\n",
    "warnings.simplefilter('ignore')"
   ]
  },
  {
   "cell_type": "markdown",
   "metadata": {},
   "source": [
    "## Set Configuration"
   ]
  },
  {
   "cell_type": "code",
   "execution_count": null,
   "metadata": {
    "colab": {
     "base_uri": "https://localhost:8080/"
    },
    "id": "M8SXK4c22Xwb",
    "outputId": "b46adad5-19c1-4330-ff65-8cf3a707a626"
   },
   "outputs": [],
   "source": [
    "# shppath : str\n",
    "#     Path to a shapefile or zip file containing a shapefile\n",
    "shppath = 'cb_2022_us_state_500k.zip'\n",
    "\n",
    "# attrkey : str\n",
    "#     Column to group shapes by e.g., STUSPS of census (AL, NC, etc)\n",
    "attrkey = 'STUSPS'\n",
    "\n",
    "# gdnam : str\n",
    "#     Name of grid definition within gdpath (e.g., 12US1, 108NHEMI2)\n",
    "gdnam = '12US1'\n",
    "gdpath = None # None uses built-in; or specify your own GRIDDESC path"
   ]
  },
  {
   "cell_type": "markdown",
   "metadata": {},
   "source": [
    "## Run Processor"
   ]
  },
  {
   "cell_type": "code",
   "execution_count": null,
   "metadata": {
    "colab": {
     "base_uri": "https://localhost:8080/"
    },
    "id": "M8SXK4c22Xwb",
    "outputId": "b46adad5-19c1-4330-ff65-8cf3a707a626"
   },
   "outputs": [],
   "source": [
    "outpath = shp2cmaq.shp2cmaq(shppath, attrkey, gdnam, gdpath=None, verbose=1)"
   ]
  },
  {
   "cell_type": "markdown",
   "metadata": {},
   "source": [
    "## Plot Result"
   ]
  },
  {
   "cell_type": "code",
   "execution_count": null,
   "metadata": {
    "colab": {
     "base_uri": "https://localhost:8080/",
     "height": 383
    },
    "id": "i1wHo0m5s6j1",
    "outputId": "0173e1d0-0939-4d6e-ee96-f861b985bcb3"
   },
   "outputs": [],
   "source": [
    "import matplotlib.pyplot as plt\n",
    "import cmaqsatproc as csp\n",
    "\n",
    "\n",
    "igf = csp.open_ioapi(outpath)\n",
    "domkey = [k for k in list(igf.data_vars) if k.endswith('DOM')][0]\n",
    "totkey = [k for k in list(igf.data_vars) if k.endswith('TOT')][0]\n",
    "\n",
    "fig, axx = plt.subplots(1, 2, figsize=(12, 4))\n",
    "igf[domkey].where(lambda x: x > -999).plot(ax=axx[0], cmap='nipy_spectral')\n",
    "igf[totkey].plot(ax=axx[1], cmap='YlOrRd')\n",
    "_ = igf.csp.cno.drawcountries(ax=axx)\n",
    "name2idx = eval(igf[domkey].description)\n",
    "print('Dominant Index')\n",
    "print(str({v: k for k, v in name2idx.items()}))"
   ]
  },
  {
   "cell_type": "code",
   "execution_count": null,
   "metadata": {
    "id": "t3SJuEI0mFpV"
   },
   "outputs": [],
   "source": []
  },
  {
   "cell_type": "code",
   "execution_count": null,
   "metadata": {},
   "outputs": [],
   "source": []
  }
 ],
 "metadata": {
  "colab": {
   "provenance": []
  },
  "kernelspec": {
   "display_name": "Python 3 (ipykernel)",
   "language": "python",
   "name": "python3"
  },
  "language_info": {
   "codemirror_mode": {
    "name": "ipython",
    "version": 3
   },
   "file_extension": ".py",
   "mimetype": "text/x-python",
   "name": "python",
   "nbconvert_exporter": "python",
   "pygments_lexer": "ipython3",
   "version": "3.6.8"
  }
 },
 "nbformat": 4,
 "nbformat_minor": 4
}
