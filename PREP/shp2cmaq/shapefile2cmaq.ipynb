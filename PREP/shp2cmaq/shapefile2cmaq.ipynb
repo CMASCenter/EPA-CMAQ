{
 "cells": [
  {
   "cell_type": "markdown",
   "metadata": {
    "id": "0RQ1nVpN1-sL"
   },
   "source": [
    "# Create CMAQ-Ready File from Shapefile\n",
    "\n",
    "---\n",
    "    author: Barron H. Henderson\n",
    "    date: 2020-04-25\n",
    "    updated: 2024-02-05\n",
    "---\n",
    "\n",
    "This Notebook uses geopandas and cmaqsatproc to create IOAPI-like files for CMAQ. Geopandas supports STRtree optimized searches (via pygeos) and projection conversions. This simplifies the process to basic steps:\n",
    "\n",
    "1. Process shapefile\n",
    "    * Read in native projection.\n",
    "    * Filter for in CMAQ domain.\n",
    "    * Optionally, custom extra processing.\n",
    "2. Calculate area overlap.\n",
    "    * Perform grid cell intersections with shapefile polygons.\n",
    "    * Optionally, define a weighted value (e.g, fraction of population).\n",
    "    * Aggregate results to grid cell level.\n",
    "    * Find largest area contributor.\n",
    "    * Calculate total cell overlap.\n",
    "3. Output\n",
    "    * Store results as variables.\n",
    "    * Save as IOAPI-like file\n",
    "\n"
   ]
  },
  {
   "cell_type": "code",
   "execution_count": null,
   "metadata": {
    "id": "CWZSGMYnYHiD"
   },
   "outputs": [],
   "source": [
    "# Install Libraries, only needs to be run first time on each machine\n",
    "#!python -m pip install -qq cmaqsatproc geopandas xarray netcdf4 pycno"
   ]
  },
  {
   "cell_type": "code",
   "execution_count": null,
   "metadata": {
    "id": "DoAc3RR5B-vf"
   },
   "outputs": [],
   "source": [
    "# Download an example shapefile\n",
    "#!wget https://www2.census.gov/geo/tiger/GENZ2022/shp/cb_2022_us_state_500k.zip # use with STUSPS\n",
    "#!wget http://naturalearth.s3.amazonaws.com/110m_cultural/ne_110m_admin_0_countries.zip # use with ISO_A3\n",
    "#!wget https://www.naturalearthdata.com/http//www.naturalearthdata.com/download/10m/cultural/ne_10m_admin_1_states_provinces.zip # us with iso_3166_2"
   ]
  },
  {
   "cell_type": "code",
   "execution_count": null,
   "metadata": {
    "id": "y0aWvTcEYRGo"
   },
   "outputs": [],
   "source": [
    "import os\n",
    "import string\n",
    "import warnings\n",
    "warnings.simplefilter('ignore')\n",
    "\n",
    "import cmaqsatproc as csp\n",
    "import geopandas as gpd\n",
    "\n",
    "__version__ = '1.0'"
   ]
  },
  {
   "cell_type": "code",
   "execution_count": null,
   "metadata": {
    "colab": {
     "base_uri": "https://localhost:8080/"
    },
    "id": "M8SXK4c22Xwb",
    "outputId": "b46adad5-19c1-4330-ff65-8cf3a707a626"
   },
   "outputs": [],
   "source": [
    "# shppath : str\n",
    "#     Path to a shapefile or zip file containing a shapefile\n",
    "shppath = 'cb_2022_us_state_500k.zip'\n",
    "\n",
    "# attrkey : str\n",
    "#     Column to group shapes by e.g., STUSPS of census (AL, NC, etc)\n",
    "attrkey = 'STUSPS'\n",
    "\n",
    "# prefix : str\n",
    "#     Variable names with be <prefix>_<attrvalue> (STUSPS_NC)\n",
    "prefix = f'{attrkey}_'\n",
    "\n",
    "# gdpath : str\n",
    "#     Path to a GRIDDESC file (optional for EPA domains 1US1, 4US1, 12US1,\n",
    "#     12US2, 36US3, 108NHEMI2, etc)\n",
    "gdpath = None\n",
    "\n",
    "# gdnam : str\n",
    "#     Name of grid definition within gdpath (e.g., 12US1, 108NHEMI2)\n",
    "gdnam = '12US1'\n",
    "\n",
    "# outformat : str\n",
    "#     Either NETCDF4_CLASSIC or NETCDF3_CLASSIC (bigger, more IAOPI compatible)\n",
    "outformat = 'NETCDF4_CLASSIC'\n",
    "\n",
    "# debug : bool\n",
    "#     Plot results for understanding what happened.\n",
    "debug = True\n",
    "\n",
    "# outpath : str\n",
    "#     Defines where the output will be stored.\n",
    "rootname = os.path.splitext(os.path.basename(shppath))[0]\n",
    "outpath = f'./{rootname}.{attrkey}.{gdnam}.IOAPI.nc'\n",
    "\n",
    "if os.path.exists(outpath):\n",
    "    print(f'WARNING: Running this will overwrite existing file {outpath}.')\n",
    "else:\n",
    "    print(f'INFO: Running this will create {outpath}.')"
   ]
  },
  {
   "cell_type": "code",
   "execution_count": null,
   "metadata": {
    "id": "0DCD2jdJccjX"
   },
   "outputs": [],
   "source": [
    "gf = csp.open_griddesc(gdnam, gdpath=gdpath)\n",
    "bcrs = 'EPSG:4269'\n",
    "if gf.GDTYP == 6:\n",
    "    # For polar stereographic, make sure the bounds are reasonable.\n",
    "    bbox = (-181, -30, 181, 91)\n",
    "else:\n",
    "    # The default bounding box is the perimiter in WGS84 + 1 degree buffer\n",
    "    # You may need to update 4326 to match your shapefile\n",
    "    bbox = gf.csp.geodf.envelope.to_crs(bcrs).unary_union.envelope.buffer(1).bounds"
   ]
  },
  {
   "cell_type": "code",
   "execution_count": null,
   "metadata": {
    "id": "S4l7qLWGbd3O"
   },
   "outputs": [],
   "source": [
    "shpf = gpd.read_file(shppath, bbox=bbox)\n",
    "if attrkey not in shpf.columns:\n",
    "    print('WARNING: attrkey must be in or derived from columns:')\n",
    "    print(sorted(shpf.columns))\n",
    "if bcrs != shpf.crs:\n",
    "    print(f'INFO: Bounding box in {bcrs} and shapefile in {shpf.crs}.')\n",
    "    print(f'INFO: If both are lat/lon variants, this should not be a problem.')\n",
    "    print(f'INFO: You can optionally set bcrs=\\'{shpf.crs}\\' and run again')"
   ]
  },
  {
   "cell_type": "code",
   "execution_count": null,
   "metadata": {
    "id": "HtRm7a_pbj_p"
   },
   "outputs": [],
   "source": [
    "# Reproject input as grid projection and add custom variable with\n",
    "# basic name cleanup\n",
    "dshpf = shpf.to_crs(gf.csp.geodf.crs)\n",
    "attrdefn = f'{attrkey} removing spaces and special characters'\n",
    "# Derive custom key from another existing key\n",
    "dshpf['custom'] = prefix + dshpf[attrkey]\n",
    "# Cleanup names using a few common rules\n",
    "dshpf['custom'] = dshpf['custom'].str.upper().str.replace('-', '_')\n",
    "dshpf['custom'] = dshpf['custom'].str.replace('~', '_').str.replace('.', '_')\n",
    "dshpf['custom'] = dshpf['custom'].str.replace('_99', 'UNK')\n",
    "# add your own additional cleanup\n",
    "# dshpf['custom'] = dshpf['custom']...\n",
    "\n",
    "# Warn about weird names\n",
    "allowed_ascii = string.ascii_uppercase + string.digits + '_'\n",
    "for cat in dshpf['custom']:\n",
    "    if cat[:1] not in string.ascii_uppercase:\n",
    "        print(f'WARNING: {cat} starts with non ascii')\n",
    "    for c in cat:\n",
    "        if c not in allowed_ascii:\n",
    "            print(f'WARNING: {cat} has unallowed characters')\n",
    "            break\n",
    "\n",
    "# only required if calculating weighted values\n",
    "dshpf['shape_area'] = dshpf.geometry.area"
   ]
  },
  {
   "cell_type": "code",
   "execution_count": null,
   "metadata": {},
   "outputs": [],
   "source": [
    "print('Unique Labels:')\n",
    "print(dshpf['custom'].unique())"
   ]
  },
  {
   "cell_type": "code",
   "execution_count": null,
   "metadata": {
    "id": "jPub0SsygjFU"
   },
   "outputs": [],
   "source": [
    "# Calculate variables for each unique attribute value for fractional\n",
    "# area overlap, the dominant value\n",
    "domkey = f'{prefix}DOM'\n",
    "totkey = f'{prefix}TOT'\n",
    "# Advanced Options:\n",
    "#   By default, this utility fraction area coverage. However, you can change\n",
    "#   it to return a weighted attribute. For example, with Census shapefiles,\n",
    "#   you could return fractional land area (ALAND). This might be more useful\n",
    "#   with a variable like population.\n",
    "srckey = 'intersection_area' # intersection_area or weighted_value\n",
    "wgtkey = 'population'\n",
    "\n",
    "attr_area = gpd.overlay(dshpf, gf.csp.geodf.reset_index(), how='intersection')\n",
    "attr_area['intersection_area'] = attr_area.geometry.area\n",
    "if srckey == 'weighted_value':\n",
    "    if wgtkey not in dshpf.columns:\n",
    "        raise KeyError(f'Cannot find {wgtkey}; must be one of {dshpf.columns}')\n",
    "    # Add a custom_value (e.g., population)\n",
    "    attr_area['weight'] = attr_area['intersection_area'] / attr_area['shape_area']\n",
    "    attr_area['weighted_value'] = attr_area['weight'] * attr_area[wgtkey]\n",
    "\n",
    "attrkeys = sorted(attr_area['custom'].unique())\n",
    "attr_area['custom_idx'] = attr_area['custom'].apply(lambda x: attrkeys.index(x))\n",
    "attr_area_sum = attr_area.groupby(['custom', 'ROW', 'COL']).sum(numeric_only=True)\n",
    "\n",
    "dom_area = attr_area.sort_values(\n",
    "    by=srckey, ascending=False\n",
    ").groupby(['ROW', 'COL']).agg(**{\n",
    "    'custom': ('custom', 'first'), domkey: (f'custom_idx', 'first'),\n",
    "    totkey: (srckey, 'sum')\n",
    "})\n",
    "dom_area_ds = dom_area.to_xarray()\n",
    "catds = attr_area_sum[srckey].unstack('custom').fillna(0).to_xarray()\n",
    "\n",
    "catds[totkey] = dom_area_ds[totkey]"
   ]
  },
  {
   "cell_type": "code",
   "execution_count": null,
   "metadata": {
    "colab": {
     "base_uri": "https://localhost:8080/"
    },
    "id": "eV0Ll49XhwHX",
    "outputId": "092dd361-bfd4-4961-c624-1c27a0b8dd6b"
   },
   "outputs": [],
   "source": [
    "# Add all variables to gf\n",
    "for vark, var in catds.data_vars.items():\n",
    "    print(vark, end=',', flush=True)\n",
    "    gf[vark] = var.astype('f')\n",
    "    gf[vark].attrs.update(\n",
    "        long_name=vark.ljust(16),\n",
    "        var_desc=f'Fractional overlap of {vark} with {gdnam}'.ljust(80)[:80],\n",
    "        unit='1'.ljust(16)\n",
    "    )\n",
    "\n",
    "# Set any missing values (i.e., no overla) to 0.\n",
    "for vark in gf.data_vars:\n",
    "    gf[vark] = gf[vark].fillna(0)\n",
    "\n",
    "# Add dominant key variable with custom missing value.\n",
    "gf[domkey] = dom_area_ds[domkey].fillna(-999).astype('i')\n",
    "gf[domkey] = gf[domkey].fillna(-999).astype('i')\n",
    "gf[domkey].attrs.update(\n",
    "    long_name=domkey.ljust(16),\n",
    "    var_desc=f'Dominant {attrkey} for {gdnam} cell'.ljust(80)[:80],\n",
    "    units='1'.ljust(16),\n",
    "    description=str({k: i for i, k in enumerate(attrkeys)})[:-1] + \", 'UNASSIGNED': -999}\"\n",
    ")\n",
    "\n",
    "# Add IOAPI meta-data\n",
    "igf = gf.expand_dims(TSTEP=1, LAY=1).csp.to_ioapi()\n",
    "igf.attrs['FILEDESC'] = f\"\"\"title: {outpath}\n",
    "author: shapefile2cmaq\n",
    "description: {attrkey} fractional area coverage, total ({prefix}TOT) and dominant ({prefix}DOM)\n",
    "inputs:\n",
    " - Shapefile: {shppath}\n",
    " - Attribute: {attrdefn}\n",
    " - GDNAM: {gdnam}\n",
    " - GDPATH: {gdpath}\n",
    "file_version: 1.0\n",
    "tool_version: {__version__}\n",
    "\"\"\".ljust(80*60)[:60*80]"
   ]
  },
  {
   "cell_type": "code",
   "execution_count": null,
   "metadata": {
    "colab": {
     "base_uri": "https://localhost:8080/",
     "height": 383
    },
    "id": "i1wHo0m5s6j1",
    "outputId": "0173e1d0-0939-4d6e-ee96-f861b985bcb3"
   },
   "outputs": [],
   "source": [
    "if debug:\n",
    "    import matplotlib.pyplot as plt\n",
    "    fig, axx = plt.subplots(1, 2, figsize=(12, 4))\n",
    "    igf[domkey].where(lambda x: x > -999).plot(ax=axx[0], cmap='nipy_spectral')\n",
    "    igf[totkey].plot(ax=axx[1], cmap='YlOrRd')\n",
    "    _ = igf.csp.cno.drawcountries(ax=axx)\n",
    "    print('Dominant Index')\n",
    "    print(str({v: k.replace(prefix, '') for k, v in name2idx.items()}))"
   ]
  },
  {
   "cell_type": "code",
   "execution_count": null,
   "metadata": {
    "id": "t3SJuEI0mFpV"
   },
   "outputs": [],
   "source": [
    "os.makedirs(os.path.dirname(outpath), exist_ok=True)\n",
    "igf.to_netcdf(outpath, format=outformat)"
   ]
  },
  {
   "cell_type": "code",
   "execution_count": null,
   "metadata": {},
   "outputs": [],
   "source": []
  }
 ],
 "metadata": {
  "colab": {
   "provenance": []
  },
  "kernelspec": {
   "display_name": "intel39",
   "language": "python",
   "name": "intel39"
  },
  "language_info": {
   "codemirror_mode": {
    "name": "ipython",
    "version": 3
   },
   "file_extension": ".py",
   "mimetype": "text/x-python",
   "name": "python",
   "nbconvert_exporter": "python",
   "pygments_lexer": "ipython3",
   "version": "3.9.15"
  }
 },
 "nbformat": 4,
 "nbformat_minor": 4
}
